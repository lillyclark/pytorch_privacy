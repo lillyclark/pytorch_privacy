{
 "cells": [
  {
   "cell_type": "code",
   "execution_count": 118,
   "metadata": {},
   "outputs": [],
   "source": [
    "import pandas as pd\n",
    "import numpy as np\n",
    "import torch\n",
    "import matplotlib.pyplot as plt\n",
    "from torch.utils.data import Dataset, DataLoader\n",
    "from matplotlib.dates import datestr2num\n",
    "import torch.optim as optim\n",
    "from sklearn import preprocessing\n",
    "import math\n",
    "from scipy.stats import gaussian_kde\n",
    "# plt.ion()"
   ]
  },
  {
   "cell_type": "code",
   "execution_count": 3,
   "metadata": {},
   "outputs": [],
   "source": [
    "FILENAME = 'augmented_data.csv'\n",
    "\n",
    "BATCH_SIZE = 128\n",
    "TRAIN_SPLIT = 0.8\n",
    "\n",
    "NUM_FEATURES = 24\n",
    "NUM_UNITS = 32\n",
    "NUM_USERS = 9\n",
    "NUM_EPOCHS = 1\n",
    "\n",
    "EPSILON = 0.05\n",
    "DELTA = 10**-5\n",
    "NORM_CLIP=4.0\n",
    "\n",
    "SIGMA = 0.3\n",
    "\n",
    "MAP_PARAMS = 2\n",
    "\n",
    "NUM_GRIDS = 4"
   ]
  },
  {
   "cell_type": "markdown",
   "metadata": {},
   "source": [
    "## Load Data"
   ]
  },
  {
   "cell_type": "code",
   "execution_count": 4,
   "metadata": {},
   "outputs": [],
   "source": [
    "userID = {\n",
    "'a841f74e620f74ec443b7a25d7569545':0,\n",
    "'22223276ea84bbce3a62073c164391fd':1,\n",
    "'510635002cb29804d54bff664cab52be':2,\n",
    "'7cbc37da05801d46e7d80c3b99fd5adb':3,\n",
    "'7023889b4439d2c02977ba152d6f4c6e':4,\n",
    "'8425a81da55ec16b7f9f80c139c235a2':5,\n",
    "'6882f6cf8c72d6324ba7e6bb42c9c7c2':6,\n",
    "'1e33db5d2be36268b944359fbdbdad21':7,\n",
    "'892d2c3aae6e51f23bf8666c2314b52f':8,\n",
    "}"
   ]
  },
  {
   "cell_type": "code",
   "execution_count": 5,
   "metadata": {},
   "outputs": [],
   "source": [
    "class ChaniaDataset(Dataset):\n",
    "    def __init__(self, csv_file, transform=None, normalize=True):\n",
    "        self.augmented_data = pd.read_csv(csv_file, header=0, usecols = [0]+list(range(2,21))+list(range(22,26)), \n",
    "                                          converters={0:lambda x: datestr2num(x)})\n",
    "        self.userlabels = pd.read_csv(csv_file, header=0, usecols=[\"iPhoneUID\"],converters={\"iPhoneUID\": lambda x: userID[x]})\n",
    "        self.transform = transform\n",
    "        \n",
    "        if normalize:\n",
    "            self.augmented_data=(self.augmented_data-self.augmented_data.mean())/self.augmented_data.std()\n",
    "\n",
    "    def __len__(self):\n",
    "        return len(self.augmented_data)\n",
    "\n",
    "    def __getitem__(self, idx):\n",
    "        if type(idx) == torch.Tensor:\n",
    "            idx = idx.item()\n",
    "        data = self.augmented_data.iloc[idx].values\n",
    "        data = data.astype('float').reshape(-1,NUM_FEATURES)            \n",
    "        user = self.userlabels.iloc[idx].values\n",
    "        user = user.astype('int').reshape(-1,1)\n",
    "        sample = {'x':data, 'u':user}\n",
    "        if self.transform:\n",
    "            sample = self.transform(sample)\n",
    "        return sample"
   ]
  },
  {
   "cell_type": "code",
   "execution_count": 6,
   "metadata": {},
   "outputs": [],
   "source": [
    "class ToTensor(object):\n",
    "    def __call__(self, sample):\n",
    "        data, user = sample['x'], sample['u']\n",
    "        return {'x':torch.from_numpy(data), 'u':torch.from_numpy(user)}"
   ]
  },
  {
   "cell_type": "code",
   "execution_count": 7,
   "metadata": {},
   "outputs": [],
   "source": [
    "chania_dataset = ChaniaDataset(csv_file=FILENAME, transform=ToTensor(), normalize=True)"
   ]
  },
  {
   "cell_type": "code",
   "execution_count": 117,
   "metadata": {},
   "outputs": [
    {
     "data": {
      "text/plain": [
       "<matplotlib.axes._subplots.AxesSubplot at 0x7f5986386cc0>"
      ]
     },
     "execution_count": 117,
     "metadata": {},
     "output_type": "execute_result"
    },
    {
     "data": {
      "image/png": "[encoded data removed]",
      "text/plain": [
       "<Figure size 432x288 with 1 Axes>"
      ]
     },
     "metadata": {
      "needs_background": "light"
     },
     "output_type": "display_data"
    }
   ],
   "source": [
    "chania_dataset.augmented_data['latitude'].plot(kind='density')\n",
    "chania_dataset.augmented_data['longitude'].plot(kind='density')"
   ]
  },
  {
   "cell_type": "code",
   "execution_count": 8,
   "metadata": {},
   "outputs": [],
   "source": [
    "train_size=int(TRAIN_SPLIT*len(chania_dataset))\n",
    "test_size = len(chania_dataset)-train_size"
   ]
  },
  {
   "cell_type": "code",
   "execution_count": 9,
   "metadata": {},
   "outputs": [],
   "source": [
    "train_dataset, test_dataset = torch.utils.data.random_split(chania_dataset, [train_size, test_size])"
   ]
  },
  {
   "cell_type": "code",
   "execution_count": 10,
   "metadata": {},
   "outputs": [],
   "source": [
    "train_loader = DataLoader(train_dataset, batch_size=BATCH_SIZE, shuffle=True)\n",
    "test_loader = DataLoader(test_dataset, batch_size=BATCH_SIZE, shuffle=True)"
   ]
  },
  {
   "cell_type": "markdown",
   "metadata": {},
   "source": [
    "## Visualize Functions"
   ]
  },
  {
   "cell_type": "code",
   "execution_count": 11,
   "metadata": {},
   "outputs": [],
   "source": [
    "def show_batch_wlabels(sample_batch,longlines=None,latlines=None):\n",
    "    data, users = sample_batch['x'], sample_batch['u']\n",
    "    batch_size = len(data)\n",
    "    colors = users.numpy()[:,0].tolist()\n",
    "    for i in range(batch_size):\n",
    "        plt.scatter(data[:,:,13].numpy(), data[:,:,12].numpy(), c=colors)\n",
    "    if longlines is not None:\n",
    "        for line in longlines.numpy():\n",
    "            plt.axvline(line)\n",
    "    if latlines is not None:\n",
    "        for line in latlines.numpy():\n",
    "            plt.axhline(line)"
   ]
  },
  {
   "cell_type": "code",
   "execution_count": 101,
   "metadata": {},
   "outputs": [],
   "source": [
    "def show_privatizer(x, y, u, uhat):\n",
    "    with torch.no_grad():\n",
    "        fig, ax = plt.subplots(2,2,sharex=True,sharey=True)\n",
    "        ax[0,0].set_title(\"X\")\n",
    "        ax[0,1].set_title(\"Y\")\n",
    "        ax[1,0].set_title(\"U\")\n",
    "        ax[1,1].set_title(\"Uhat\")\n",
    "        ax[0,0].scatter(x[:,:,13].numpy(),x[:,:,12].numpy(),c=x[:,:,6].numpy())\n",
    "        ax[0,1].scatter(y[:,:,13].numpy(),y[:,:,12].numpy(),c=y[:,:,6].numpy())\n",
    "        ax[1,0].scatter(y[:,:,13].numpy(),y[:,:,12].numpy(),c=u.unsqueeze(0).numpy().T.tolist())\n",
    "        _, upred = torch.max(uhat.data,1)\n",
    "        ax[1,1].scatter(y[:,:,13].numpy(),y[:,:,12].numpy(),c=upred.unsqueeze(0).numpy().T.tolist())"
   ]
  },
  {
   "cell_type": "markdown",
   "metadata": {},
   "source": [
    "## Define helper functions"
   ]
  },
  {
   "cell_type": "code",
   "execution_count": 13,
   "metadata": {},
   "outputs": [],
   "source": [
    "def privatizer_loss(x,y,u,uhat):\n",
    "    bx = signal_map_params(x,MAP_PARAMS)\n",
    "    by = signal_map_params(y,MAP_PARAMS)\n",
    "    l1 = (bx-by).pow(2).mean()\n",
    "    l2 = (x-y).pow(2).mean()\n",
    "    l3 = (y[:,:,12:14]-x[:,:,12:14]).pow(2).mean()\n",
    "    cx,_,_ = density_count(x,NUM_GRIDS)\n",
    "    cy,_,_ = density_count(y,NUM_GRIDS)\n",
    "    l4 = (cx-cy).pow(2).mean()/BATCH_SIZE\n",
    "    l = torch.nn.CrossEntropyLoss()\n",
    "    l5 = l(uhat,u)\n",
    "    return l1+l2+l3+l4-l5"
   ]
  },
  {
   "cell_type": "code",
   "execution_count": 14,
   "metadata": {},
   "outputs": [],
   "source": [
    "def signal_map_params(x,degree):\n",
    "    def poly(degree, long, lat):\n",
    "        return torch.cat([long**i*lat**(degree-i) for degree in range(MAP_PARAMS+1) for i in range(degree,-1,-1)],1)\n",
    "    \n",
    "    polynomial = poly(MAP_PARAMS, x[:,:,13], x[:,:,12])\n",
    "    beta = torch.mm(torch.inverse(torch.mm(torch.transpose(polynomial,0,1), polynomial)),\n",
    "                  torch.mm(torch.transpose(polynomial,0,1), x[:,:,6]))\n",
    "    return beta"
   ]
  },
  {
   "cell_type": "code",
   "execution_count": 15,
   "metadata": {},
   "outputs": [],
   "source": [
    "def density_count(x, num_grids):\n",
    "    count = torch.zeros(num_grids,num_grids)\n",
    "    x1min=torch.min(x[:,:,13])\n",
    "    x2min=torch.min(x[:,:,12])\n",
    "    size1 = torch.max(x[:,:,13])-x1min\n",
    "    size2 = torch.max(x[:,:,12])-x2min\n",
    "    a_all = []\n",
    "    c_all = []\n",
    "    for i in range(num_grids):\n",
    "        for j in range(num_grids):\n",
    "            a = x1min+(size1/num_grids*i)\n",
    "            a_all.append(a)\n",
    "            b = x1min+(size1/num_grids*(i+1))\n",
    "            a_all.append(b)\n",
    "            c = x2min+(size2/num_grids*j)\n",
    "            c_all.append(c)\n",
    "            d = x2min+(size2/num_grids*(j+1))\n",
    "            c_all.append(d)\n",
    "            if i == num_grids-1 and j != num_grids-1:\n",
    "                count[i][j] += x[(x[:,:,13] >= a ) & \n",
    "                                 (x[:,:,13] <= b) & \n",
    "                                 (x[:,:,12] >= c) & \n",
    "                                 (x[:,:,12] < d)].size(0)\n",
    "            elif j == num_grids-1 and i != num_grids-1:\n",
    "                count[i][j] += x[(x[:,:,13] >= a ) & \n",
    "                                 (x[:,:,13] < b) & \n",
    "                                 (x[:,:,12] >= c) & \n",
    "                                 (x[:,:,12] <= d)].size(0)\n",
    "            elif j == num_grids-1 and i == num_grids-1:\n",
    "                count[i][j] += x[(x[:,:,13] >= a ) & \n",
    "                                 (x[:,:,13] <= b) & \n",
    "                                 (x[:,:,12] >= c) & \n",
    "                                 (x[:,:,12] <= d)].size(0)\n",
    "            else:\n",
    "                count[i][j] += x[(x[:,:,13] >= a ) & \n",
    "                                 (x[:,:,13] < b) & \n",
    "                                 (x[:,:,12] >= c) & \n",
    "                                 (x[:,:,12] < d)].size(0)\n",
    "    return count, torch.unique(torch.Tensor(a_all)), torch.unique(torch.Tensor(c_all))"
   ]
  },
  {
   "cell_type": "markdown",
   "metadata": {},
   "source": [
    "## Define adversary"
   ]
  },
  {
   "cell_type": "code",
   "execution_count": 16,
   "metadata": {},
   "outputs": [
    {
     "data": {
      "text/plain": [
       "Sequential(\n",
       "  (0): Linear(in_features=24, out_features=32, bias=True)\n",
       "  (1): ReLU()\n",
       "  (2): Linear(in_features=32, out_features=32, bias=True)\n",
       "  (3): ReLU()\n",
       "  (4): Linear(in_features=32, out_features=32, bias=True)\n",
       "  (5): ReLU()\n",
       "  (6): Linear(in_features=32, out_features=32, bias=True)\n",
       "  (7): ReLU()\n",
       "  (8): Linear(in_features=32, out_features=9, bias=True)\n",
       ")"
      ]
     },
     "execution_count": 16,
     "metadata": {},
     "output_type": "execute_result"
    }
   ],
   "source": [
    "adversary = torch.nn.Sequential(\n",
    "    torch.nn.Linear(NUM_FEATURES, NUM_UNITS),\n",
    "    torch.nn.ReLU(),\n",
    "    torch.nn.Linear(NUM_UNITS, NUM_UNITS),\n",
    "    torch.nn.ReLU(),\n",
    "    torch.nn.Linear(NUM_UNITS, NUM_UNITS),\n",
    "    torch.nn.ReLU(),\n",
    "    torch.nn.Linear(NUM_UNITS, NUM_UNITS),\n",
    "    torch.nn.ReLU(),\n",
    "    torch.nn.Linear(NUM_UNITS, NUM_USERS)\n",
    ")\n",
    "adversary.double()"
   ]
  },
  {
   "cell_type": "code",
   "execution_count": 17,
   "metadata": {},
   "outputs": [],
   "source": [
    "POPULARITY = torch.DoubleTensor([1,2,0.001,1,0.001,0.001,1,0.75,0.5])\n",
    "adversary_loss = torch.nn.CrossEntropyLoss() #add POPULARITY if desired\n",
    "adversary_optimizer = optim.Adam(adversary.parameters(),lr=0.001, betas=(0.9,0.999))"
   ]
  },
  {
   "cell_type": "markdown",
   "metadata": {},
   "source": [
    "## Define privatizers"
   ]
  },
  {
   "cell_type": "markdown",
   "metadata": {},
   "source": [
    "#### GAP"
   ]
  },
  {
   "cell_type": "code",
   "execution_count": 18,
   "metadata": {},
   "outputs": [],
   "source": [
    "gap_privatizer = torch.nn.Sequential(\n",
    "    torch.nn.Linear(NUM_FEATURES, NUM_UNITS),\n",
    "    torch.nn.ReLU(),\n",
    "    torch.nn.Linear(NUM_UNITS, NUM_UNITS),\n",
    "    torch.nn.ReLU(),\n",
    "    torch.nn.Linear(NUM_UNITS, NUM_UNITS),\n",
    "    torch.nn.ReLU(),\n",
    "    torch.nn.Linear(NUM_UNITS, NUM_UNITS),\n",
    "    torch.nn.ReLU(),\n",
    "    torch.nn.Linear(NUM_UNITS, NUM_FEATURES)\n",
    ")\n",
    "gap_privatizer.double()\n",
    "gap_privatizer_optimizer = optim.Adam(gap_privatizer.parameters(),lr=0.001, betas=(0.9,0.999))"
   ]
  },
  {
   "cell_type": "markdown",
   "metadata": {},
   "source": [
    "#### Local DP"
   ]
  },
  {
   "cell_type": "code",
   "execution_count": 19,
   "metadata": {},
   "outputs": [],
   "source": [
    "def dp_privatizer(x):\n",
    "    normvec = torch.norm(x,p=2,dim=2)\n",
    "    scalevec = NORM_CLIP/normvec\n",
    "    scalevec[scalevec>1] = 1\n",
    "    x = torch.transpose(torch.transpose(x,0,1)*scalevec,0,1).double()\n",
    "    sigma = (NORM_CLIP/EPSILON)*math.sqrt(2*math.log(1.25/DELTA))\n",
    "    noise = torch.normal(mean=torch.zeros_like(x),std=sigma).double()\n",
    "    y = x + noise\n",
    "    return y"
   ]
  },
  {
   "cell_type": "markdown",
   "metadata": {},
   "source": [
    "#### Gaussian Noise"
   ]
  },
  {
   "cell_type": "code",
   "execution_count": 20,
   "metadata": {},
   "outputs": [],
   "source": [
    "def noise_privatizer(x):\n",
    "    noise = torch.normal(mean=torch.zeros_like(x),std=SIGMA).double()\n",
    "    y = x + noise\n",
    "    return y"
   ]
  },
  {
   "cell_type": "markdown",
   "metadata": {},
   "source": [
    "# TRAIN"
   ]
  },
  {
   "cell_type": "code",
   "execution_count": 21,
   "metadata": {},
   "outputs": [],
   "source": [
    "PRIVATIZER = noise_privatizer"
   ]
  },
  {
   "cell_type": "code",
   "execution_count": 22,
   "metadata": {},
   "outputs": [
    {
     "name": "stdout",
     "output_type": "stream",
     "text": [
      "10 aloss: 2.1480946523746014 ploss: -1.6614035739194015\n",
      "20 aloss: 2.128839521172524 ploss: -1.0470806086902256\n",
      "done\n"
     ]
    }
   ],
   "source": [
    "# for each epoch\n",
    "for epoch in range(NUM_EPOCHS):\n",
    "    \n",
    "    # iterate through the training dataset\n",
    "    for i, batch in enumerate(train_loader):\n",
    "        \n",
    "        # unpack batch\n",
    "        x, u = batch['x'], batch['u'].squeeze()\n",
    "        \n",
    "        if PRIVATIZER == gap_privatizer:\n",
    "            # reset privatizer gradients\n",
    "            gap_privatizer_optimizer.zero_grad()\n",
    "        \n",
    "        # privatize x\n",
    "        y = PRIVATIZER(x)\n",
    "        \n",
    "        # reset adversary gradients\n",
    "        adversary_optimizer.zero_grad()\n",
    "        \n",
    "        # estimate userIDs\n",
    "        uhat = adversary(x).squeeze()\n",
    "        \n",
    "        # train adversary\n",
    "        aloss = adversary_loss(uhat, u)\n",
    "        aloss.backward(retain_graph=True)\n",
    "        torch.nn.utils.clip_grad_norm_(adversary.parameters(), 1000)\n",
    "        adversary_optimizer.step()\n",
    "        \n",
    "        # evaluate utility loss\n",
    "        ploss = privatizer_loss(x,y,u,uhat)\n",
    "        \n",
    "        if PRIVATIZER == gap_privatizer:\n",
    "            # train privatizer\n",
    "            ploss.backward()\n",
    "            torch.nn.utils.clip_grad_norm_(gap_privatizer.parameters(), 1000)\n",
    "            gap_privatizer_optimizer.step()\n",
    "        \n",
    "        # print progress\n",
    "        if i % 10 == 9:\n",
    "            print(i+1,\"aloss:\",aloss.item(),\"ploss:\",ploss.item())\n",
    "          \n",
    "        # stop early\n",
    "        if i == 20:\n",
    "            break\n",
    "print(\"done\")"
   ]
  },
  {
   "cell_type": "markdown",
   "metadata": {},
   "source": [
    "# Test"
   ]
  },
  {
   "cell_type": "code",
   "execution_count": 25,
   "metadata": {},
   "outputs": [
    {
     "name": "stdout",
     "output_type": "stream",
     "text": [
      "Adversary Accuracy: 26.5625\n",
      "\n",
      "Adversary Loss: 2.103212505276637\n",
      "Sigmal Map: 0.19632284630319394\n",
      "Distortion: 0.09041344261993896\n",
      "Geographic Distortion: 0.08956472412524322\n",
      "Density Count: 0.1923828125\n"
     ]
    }
   ],
   "source": [
    "# do not keep track of gradients\n",
    "with torch.no_grad():\n",
    "    correct = 0\n",
    "    total = 0\n",
    "    l1,l2,l3,l4,l5 = 0,0,0,0,0\n",
    "    \n",
    "    # iterate through test data\n",
    "    for i,batch in enumerate(test_loader):\n",
    "        \n",
    "        # unpack batch\n",
    "        x, u = batch['x'], batch['u'].squeeze()\n",
    "        \n",
    "        # privatize x\n",
    "        y = PRIVATIZER(x)\n",
    "        \n",
    "        # estimate userID\n",
    "        uhat = adversary(y).squeeze()\n",
    "        \n",
    "        # Privacy Metric\n",
    "        _, upred = torch.max(uhat.data,1)\n",
    "        total+=u.size(0)\n",
    "        correct+=(upred==u).sum().item()\n",
    "        \n",
    "        # Utility Metrics\n",
    "        l = torch.nn.CrossEntropyLoss()\n",
    "        l5 += l(uhat,u).item()\n",
    "        bx = signal_map_params(x,MAP_PARAMS)\n",
    "        by = signal_map_params(y,MAP_PARAMS)\n",
    "        l1 += (bx-by).pow(2).mean().item()\n",
    "        l2 += (y-x).pow(2).mean().item()\n",
    "        l3 += (y[:,:,12:14]-x[:,:,12:14]).pow(2).mean().item()\n",
    "        cx,_,_ = density_count(x,NUM_GRIDS)\n",
    "        cy,_,_ = density_count(y,NUM_GRIDS)\n",
    "        l4 += (cx-cy).pow(2).mean().item()/BATCH_SIZE\n",
    "        \n",
    "        # stop early\n",
    "        if i==0:\n",
    "            break\n",
    "        \n",
    "    print(\"Adversary Accuracy:\", 100*correct/total)\n",
    "    print(\"\")\n",
    "    \n",
    "    print(\"Adversary Loss:\", l5/(i+1))\n",
    "    print(\"Sigmal Map:\", l1/(i+1))\n",
    "    print(\"Distortion:\", l2/(i+1))\n",
    "    print(\"Geographic Distortion:\", l3/(i+1))\n",
    "    print(\"Density Count:\",l4/(i+1))"
   ]
  },
  {
   "cell_type": "markdown",
   "metadata": {},
   "source": [
    "# Visualize"
   ]
  },
  {
   "cell_type": "code",
   "execution_count": 102,
   "metadata": {
    "scrolled": true
   },
   "outputs": [
    {
     "data": {
      "image/png": "[encoded data removed]",
      "text/plain": [
       "<Figure size 432x288 with 4 Axes>"
      ]
     },
     "metadata": {
      "needs_background": "light"
     },
     "output_type": "display_data"
    }
   ],
   "source": [
    "show_privatizer(x,y,u,uhat)"
   ]
  },
  {
   "cell_type": "markdown",
   "metadata": {},
   "source": [
    "# Probability Distributions"
   ]
  },
  {
   "cell_type": "code",
   "execution_count": 137,
   "metadata": {},
   "outputs": [
    {
     "data": {
      "text/plain": [
       "array([ 0.19743254,  1.71132391,  0.1355278 ,  0.23340694,  0.12525002,\n",
       "        0.11933165,  0.10308259,  0.21444873,  0.19057524, -0.41862017,\n",
       "        1.8632489 ,  0.22010997, -0.44004874,  0.12337797, -1.07130547,\n",
       "       -1.58640105,  1.71132391, -1.07130547,  0.19057524,  0.09205182,\n",
       "        0.23647701,  0.12939505,  0.14206148, -1.67046053, -1.55861387,\n",
       "       -1.41305515, -1.03859357,  0.2180218 , -1.03859357,  0.22469742,\n",
       "       -0.41105992,  0.1355278 ,  0.19786305, -1.58640105,  0.12337797,\n",
       "       -1.48077933, -1.66052194, -1.68651534,  2.22201225,  0.23340694,\n",
       "       -1.037289  ,  0.1258472 ,  0.12525002, -0.44847756, -1.67590564,\n",
       "        2.13168   ,  0.2419116 ,  0.18066348,  0.23732236,  0.21568228,\n",
       "       -1.68651534,  0.11395394,  0.14206148,  0.29257232,  0.12337797,\n",
       "       -1.65734894,  0.23473846, -1.07130547,  0.23566631,  0.20250746,\n",
       "        0.1773325 , -1.67929459, -1.03444649,  0.1355278 , -0.41550631,\n",
       "       -1.07130547, -1.67929459, -1.03444649, -1.68651534,  1.70525335,\n",
       "        1.46771863,  2.13168   ,  0.22133713, -0.44004874, -2.80982761,\n",
       "       -1.68651534,  0.26297093,  0.21568228,  0.12337797,  1.88205199,\n",
       "        0.14039164, -1.68651534, -1.58640105,  0.24341293,  0.17146488,\n",
       "        0.1355278 ,  0.14206148, -1.65448725,  0.1921532 ,  0.13787092,\n",
       "       -1.67046053, -1.03859357, -1.65963701,  0.22177981, -1.62889391,\n",
       "       -1.07130547,  0.21608887,  0.17474511,  0.2001993 , -1.67046053,\n",
       "        0.13514295,  0.12525002,  0.14206148,  1.60590223,  0.17146488,\n",
       "       -1.66907987,  0.19500062,  0.08971083, -1.67699421, -1.66052194,\n",
       "        0.23545684,  0.23377004,  0.1355278 ,  0.1171139 ,  0.21608887,\n",
       "       -1.68651534, -1.58640105, -1.6578815 ,  0.1355278 ,  1.8632489 ,\n",
       "        0.13494944,  1.8632489 ,  0.18494418,  0.08971083,  2.22201225,\n",
       "        0.14206148,  0.12899268, -0.40380656])"
      ]
     },
     "execution_count": 137,
     "metadata": {},
     "output_type": "execute_result"
    }
   ],
   "source": [
    "x[:,:,12].numpy().T[0]"
   ]
  },
  {
   "cell_type": "code",
   "execution_count": 202,
   "metadata": {},
   "outputs": [],
   "source": [
    "# generated a density class\n",
    "lat_distr = gaussian_kde(x[:,:,12].numpy().T[0])\n",
    "long_distr = gaussian_kde(x[:,:,13].numpy().T[0])\n",
    "\n",
    "# set the covariance_factor, lower means more detail\n",
    "lat_distr.covariance_factor = lambda : BATCH_SIZE**(-1./(1+4))\n",
    "lat_distr._compute_covariance()\n",
    "long_distr.covariance_factor = lambda : BATCH_SIZE**(-1./(1+4))\n",
    "long_distr._compute_covariance()"
   ]
  },
  {
   "cell_type": "code",
   "execution_count": 203,
   "metadata": {},
   "outputs": [
    {
     "data": {
      "text/plain": [
       "[<matplotlib.lines.Line2D at 0x7f598622ec88>]"
      ]
     },
     "execution_count": 203,
     "metadata": {},
     "output_type": "execute_result"
    },
    {
     "data": {
      "image/png": "[encoded data removed]",
      "text/plain": [
       "<Figure size 432x288 with 1 Axes>"
      ]
     },
     "metadata": {
      "needs_background": "light"
     },
     "output_type": "display_data"
    }
   ],
   "source": [
    "testpoints = np.linspace(-6,6,100)\n",
    "plt.plot(testpoints,lat_distr(testpoints))\n",
    "plt.plot(testpoints,long_distr(testpoints))"
   ]
  },
  {
   "cell_type": "code",
   "execution_count": 204,
   "metadata": {},
   "outputs": [],
   "source": [
    "newsamplelat = lat_distr.resample(128)\n",
    "newsamplelong = long_distr.resample(128)"
   ]
  },
  {
   "cell_type": "code",
   "execution_count": 205,
   "metadata": {},
   "outputs": [
    {
     "data": {
      "text/plain": [
       "<matplotlib.collections.PathCollection at 0x7f59861b4080>"
      ]
     },
     "execution_count": 205,
     "metadata": {},
     "output_type": "execute_result"
    },
    {
     "data": {
      "image/png": "[encoded data removed]",
      "text/plain": [
       "<Figure size 432x288 with 1 Axes>"
      ]
     },
     "metadata": {
      "needs_background": "light"
     },
     "output_type": "display_data"
    }
   ],
   "source": [
    "plt.scatter(x[:,:,13],x[:,:,12],c=\"b\")\n",
    "plt.scatter(newsamplelong,newsamplelat,c=\"r\")"
   ]
  },
  {
   "cell_type": "code",
   "execution_count": 225,
   "metadata": {},
   "outputs": [],
   "source": [
    "# generated a density class\n",
    "coord_distr = gaussian_kde(x[:,:,12:14].squeeze().numpy().T)\n",
    "\n",
    "# set the covariance_factor, lower means more detail\n",
    "coord_distr.covariance_factor = lambda : BATCH_SIZE**(-2./(1+4))\n",
    "coord_distr._compute_covariance()"
   ]
  },
  {
   "cell_type": "code",
   "execution_count": 235,
   "metadata": {},
   "outputs": [
    {
     "data": {
      "text/plain": [
       "<matplotlib.collections.PathCollection at 0x7f5986051940>"
      ]
     },
     "execution_count": 235,
     "metadata": {},
     "output_type": "execute_result"
    },
    {
     "data": {
      "image/png": "[encoded data removed]",
      "text/plain": [
       "<Figure size 432x288 with 1 Axes>"
      ]
     },
     "metadata": {
      "needs_background": "light"
     },
     "output_type": "display_data"
    }
   ],
   "source": [
    "plt.scatter(x[:,:,13],x[:,:,12],c=\"b\")\n",
    "plt.scatter(coord_distr.resample(128)[1],coord_distr.resample(128)[0],c=\"r\")"
   ]
  },
  {
   "cell_type": "code",
   "execution_count": 259,
   "metadata": {},
   "outputs": [],
   "source": [
    "def theoretical_privatizer(x):\n",
    "    prob_distr = gaussian_kde(x.numpy().squeeze().T)\n",
    "    prob_distr.covariance_factor = lambda : BATCH_SIZE**(-NUM_FEATURES/(1+4))\n",
    "    prob_distr._compute_covariance()\n",
    "    y = prob_distr.resample(128).T\n",
    "    return torch.Tensor(y.reshape(BATCH_SIZE,1,NUM_FEATURES))"
   ]
  },
  {
   "cell_type": "code",
   "execution_count": 260,
   "metadata": {},
   "outputs": [
    {
     "name": "stdout",
     "output_type": "stream",
     "text": [
      "torch.Size([128, 1, 24])\n"
     ]
    }
   ],
   "source": [
    "print(theoretical_privatizer(x).size())"
   ]
  },
  {
   "cell_type": "code",
   "execution_count": 242,
   "metadata": {},
   "outputs": [
    {
     "data": {
      "text/plain": [
       "array([[-1.2743052 ,  0.28804947,  0.6713439 , ...,  0.66144205,\n",
       "         0.62444991,  0.08412223],\n",
       "       [-0.12891717,  0.25354789, -0.12891717, ..., -0.12891717,\n",
       "        -0.12891717,  0.63601296],\n",
       "       [-0.28842876,  0.19043472, -0.28842876, ..., -0.28842876,\n",
       "        -0.28842876,  0.19043472],\n",
       "       ...,\n",
       "       [-0.55938199, -0.55938199,  1.85154214, ..., -0.55938199,\n",
       "        -0.55938199, -0.55938199],\n",
       "       [-0.29456841, -0.29456841,  0.99501313, ..., -0.29456841,\n",
       "        -0.29456841, -0.29456841],\n",
       "       [-0.30595195, -0.30595195,  1.03228919, ..., -0.30595195,\n",
       "        -0.30595195, -0.30595195]])"
      ]
     },
     "execution_count": 242,
     "metadata": {},
     "output_type": "execute_result"
    }
   ],
   "source": []
  },
  {
   "cell_type": "code",
   "execution_count": null,
   "metadata": {},
   "outputs": [],
   "source": []
  }
 ],
 "metadata": {
  "kernelspec": {
   "display_name": "Python 3",
   "language": "python",
   "name": "python3"
  },
  "language_info": {
   "codemirror_mode": {
    "name": "ipython",
    "version": 3
   },
   "file_extension": ".py",
   "mimetype": "text/x-python",
   "name": "python",
   "nbconvert_exporter": "python",
   "pygments_lexer": "ipython3",
   "version": "3.6.8"
  }
 },
 "nbformat": 4,
 "nbformat_minor": 2
}
