{
 "cells": [
  {
   "cell_type": "code",
   "execution_count": 50,
   "metadata": {},
   "outputs": [
    {
     "name": "stdout",
     "output_type": "stream",
     "text": [
      "reading everything but the userIDs\n",
      "reading userIDs\n"
     ]
    }
   ],
   "source": [
    "import numpy as np\n",
    "from matplotlib.dates import datestr2num\n",
    "\n",
    "userID = {\n",
    "'a841f74e620f74ec443b7a25d7569545':0,\n",
    "'22223276ea84bbce3a62073c164391fd':1,\n",
    "'510635002cb29804d54bff664cab52be':2,\n",
    "'7cbc37da05801d46e7d80c3b99fd5adb':3,\n",
    "'7023889b4439d2c02977ba152d6f4c6e':4,\n",
    "'8425a81da55ec16b7f9f80c139c235a2':5,\n",
    "'6882f6cf8c72d6324ba7e6bb42c9c7c2':6,\n",
    "'1e33db5d2be36268b944359fbdbdad21':7,\n",
    "'892d2c3aae6e51f23bf8666c2314b52f':8,\n",
    "}\n",
    "\n",
    "\n",
    "cols = (0,2,3,4,5,6,7,8,9,10,11,12,13,14,15,16,17,18,19,20,21,22,23,24,25)\n",
    "print(\"reading everything but the userIDs\")\n",
    "datafile = 'augmented_data.csv'\n",
    "data = np.genfromtxt(datafile, delimiter=',', skip_header=1, usecols = cols, converters={0:lambda x: datestr2num(x.decode('UTF-8'))})\n",
    "print(\"reading userIDs\")\n",
    "userlabels = np.genfromtxt(datafile, delimiter=',', skip_header=1, usecols = (1), converters={1:lambda x: userID[x.decode('UTF-8')]})\n",
    "\n",
    "firstdate = int(np.floor(data[0,0]))\n",
    "lastdate = int(np.floor(data[-1,0]))\n",
    "\n",
    "daybyday = {}\n",
    "\n",
    "for user in range(0,9):\n",
    "    daybyday[user] = {}\n",
    "    for date in range(firstdate, lastdate+1):\n",
    "        daybyday[user][date] = np.concatenate([data[x] for x in np.where(np.floor(data[:,0])==date)], axis=1)"
   ]
  },
  {
   "cell_type": "code",
   "execution_count": 51,
   "metadata": {
    "scrolled": true
   },
   "outputs": [
    {
     "name": "stdout",
     "output_type": "stream",
     "text": [
      "1008\n"
     ]
    }
   ],
   "source": [
    "threshold = 150\n",
    "count = 0\n",
    "total = 0\n",
    "users = []\n",
    "for user in range(0,9):\n",
    "    for day in daybyday[user].keys():\n",
    "        if daybyday[user][day].shape[0] >= threshold:\n",
    "            if user not in users:\n",
    "                users.append(user)\n",
    "            count+=1\n",
    "        total+=1\n",
    "print(count)"
   ]
  },
  {
   "cell_type": "code",
   "execution_count": 52,
   "metadata": {},
   "outputs": [
    {
     "data": {
      "text/plain": [
       "[0, 1, 2, 3, 4, 5, 6, 7, 8]"
      ]
     },
     "execution_count": 52,
     "metadata": {},
     "output_type": "execute_result"
    }
   ],
   "source": [
    "users"
   ]
  },
  {
   "cell_type": "code",
   "execution_count": 67,
   "metadata": {},
   "outputs": [],
   "source": [
    "r = daybyday[0][firstdate].shape[0]\n",
    "idx = np.arange(r)\n",
    "np.random.shuffle(idx)\n",
    "idx = idx[:threshold]"
   ]
  },
  {
   "cell_type": "code",
   "execution_count": 84,
   "metadata": {},
   "outputs": [],
   "source": [
    "daytabase = np.concatenate((np.array([[0]]), \n",
    "                            daybyday[0][firstdate][idx][:,list(range(20))+list(range(22,25))].reshape(1,23*150)), \n",
    "                            axis=1)"
   ]
  },
  {
   "cell_type": "code",
   "execution_count": 85,
   "metadata": {},
   "outputs": [
    {
     "data": {
      "text/plain": [
       "(1, 3451)"
      ]
     },
     "execution_count": 85,
     "metadata": {},
     "output_type": "execute_result"
    }
   ],
   "source": [
    "daytabase.shape"
   ]
  },
  {
   "cell_type": "code",
   "execution_count": 86,
   "metadata": {},
   "outputs": [],
   "source": [
    "for user in range(0,9):\n",
    "    for day in daybyday[user].keys():\n",
    "        r = daybyday[user][day].shape[0]\n",
    "        if r >= threshold:\n",
    "            idx = np.arange(r)\n",
    "            np.random.shuffle(idx)\n",
    "            idx = idx[:threshold]\n",
    "            \n",
    "            thisuserday = np.concatenate((np.array([[user]]), daybyday[user][day][idx][:,list(range(20))+list(range(22,25))].reshape(1,23*150)), axis=1)\n",
    "            daytabase = np.concatenate((daytabase,thisuserday))"
   ]
  },
  {
   "cell_type": "code",
   "execution_count": 87,
   "metadata": {},
   "outputs": [
    {
     "data": {
      "text/plain": [
       "(1009, 3451)"
      ]
     },
     "execution_count": 87,
     "metadata": {},
     "output_type": "execute_result"
    }
   ],
   "source": [
    "daytabase.shape"
   ]
  },
  {
   "cell_type": "code",
   "execution_count": 88,
   "metadata": {},
   "outputs": [
    {
     "data": {
      "text/plain": [
       "array([0., 0., 0., ..., 8., 8., 8.])"
      ]
     },
     "execution_count": 88,
     "metadata": {},
     "output_type": "execute_result"
    }
   ],
   "source": [
    "daytabase[:,0]"
   ]
  },
  {
   "cell_type": "code",
   "execution_count": 89,
   "metadata": {},
   "outputs": [
    {
     "data": {
      "text/plain": [
       "array([], shape=(1009, 1, 0), dtype=float64)"
      ]
     },
     "execution_count": 89,
     "metadata": {},
     "output_type": "execute_result"
    }
   ],
   "source": [
    "daytabase[:,np.where(daytabase.std(axis=0)==0)]"
   ]
  },
  {
   "cell_type": "code",
   "execution_count": 90,
   "metadata": {},
   "outputs": [],
   "source": [
    "np.savetxt(\"daytabase.csv\", daytabase, delimiter=\",\")"
   ]
  },
  {
   "cell_type": "code",
   "execution_count": null,
   "metadata": {},
   "outputs": [],
   "source": []
  }
 ],
 "metadata": {
  "kernelspec": {
   "display_name": "Python 3",
   "language": "python",
   "name": "python3"
  },
  "language_info": {
   "codemirror_mode": {
    "name": "ipython",
    "version": 3
   },
   "file_extension": ".py",
   "mimetype": "text/x-python",
   "name": "python",
   "nbconvert_exporter": "python",
   "pygments_lexer": "ipython3",
   "version": "3.6.8"
  }
 },
 "nbformat": 4,
 "nbformat_minor": 2
}
